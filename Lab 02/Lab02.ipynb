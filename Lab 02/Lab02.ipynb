{
 "cells": [
  {
   "attachments": {},
   "cell_type": "markdown",
   "metadata": {},
   "source": [
    "## **<center><font style=\"color:rgb(100,109,254)\">System Programming Using Python Programming Language</font> </center>**\n",
    "### **<center><font style=\"color:rgb(100,109,254)\">Lab 02</font> </center>**"
   ]
  },
  {
   "attachments": {},
   "cell_type": "markdown",
   "metadata": {},
   "source": [
    "## Directory and File Analysis Using OS, and Pandas"
   ]
  },
  {
   "attachments": {},
   "cell_type": "markdown",
   "metadata": {},
   "source": [
    "### 1. Import Libraries"
   ]
  },
  {
   "cell_type": "code",
   "execution_count": 22,
   "metadata": {},
   "outputs": [],
   "source": [
    "import os\n",
    "import pandas as pd"
   ]
  },
  {
   "attachments": {},
   "cell_type": "markdown",
   "metadata": {},
   "source": [
    "### 2. Provide Directory Path"
   ]
  },
  {
   "cell_type": "code",
   "execution_count": 23,
   "metadata": {},
   "outputs": [],
   "source": [
    "topDirPath = \"C:/Users/hp/Google Drive/MSCS/Semester 01 (Fall 2022)\""
   ]
  },
  {
   "attachments": {},
   "cell_type": "markdown",
   "metadata": {},
   "source": [
    "### 3. "
   ]
  },
  {
   "cell_type": "code",
   "execution_count": null,
   "metadata": {},
   "outputs": [],
   "source": [
    "fileNames = []\n",
    "dirNames = []\n",
    "fileSize = []\n",
    "filePath = []\n",
    "fileFormat = []\n",
    "\n",
    "for dirPath, dirName, fileName in os.walk(topDirPath):\n",
    "    \n",
    "    for file in fileName:\n",
    "        if file is not None:\n",
    "            nameAndFormat = os.path.splitext(file)\n",
    "            \n",
    "            fileNames.append(nameAndFormat[0])\n",
    "            fileFormat.append(nameAndFormat[1])\n",
    "            filePath.append(dirPath)\n",
    "            fileSize.append(os.path.getsize(dirPath+f\"\\\\{file}\"))\n",
    "            \n",
    "    for dir in dirName:\n",
    "       if dir is not None:\n",
    "            dirNames.append(dir)"
   ]
  },
  {
   "cell_type": "markdown",
   "metadata": {},
   "source": []
  },
  {
   "cell_type": "code",
   "execution_count": null,
   "metadata": {},
   "outputs": [],
   "source": [
    "Data = {}\n",
    "\n",
    "Data[\"Name Of File\"] = fileNames\n",
    "Data[\"Format\"] = fileFormat\n",
    "Data[\"Size in Bytes\"] = fileSize\n",
    "Data[\"Path\"] = filePath"
   ]
  },
  {
   "cell_type": "code",
   "execution_count": 21,
   "metadata": {},
   "outputs": [
    {
     "name": "stdout",
     "output_type": "stream",
     "text": [
      "447 bytes\n",
      "                                          Name Of File Format  Size in Bytes  \\\n",
      "0                             3.MathematicsForAnalysis  .pptx         264354   \n",
      "1              DijkstraAlgorithm-AAA-Dr. Altaf Hussain  .pptx        2345635   \n",
      "4    Lecture 2 - AAA Dr. Altaf Hussain - Asymptotic...  .pptx        6612782   \n",
      "5    Lecture 2 - AAA Dr. Altaf Hussain - Asymptotic...  .pptx        4700138   \n",
      "6     Lecture 3 - AAA  Dr. Altaf Hussain - Brute Force  .pptx        7049409   \n",
      "12   Lecture 6 - AAA  Dr. Altaf Hussain - Heap Data...  .pptx         827226   \n",
      "13                 Recurrence Relation Solved Examples  .pptx         731433   \n",
      "153                       7_CC_App_WorkFlow_Management  .pptx        6221770   \n",
      "155                                    Cloud_Computing  .pptx        6767983   \n",
      "156                     HPC_High Performance Computing  .pptx       17074669   \n",
      "157                    Syed_CComputing_Job_Scheduling.  .pptx        5640237   \n",
      "158                      Syed_Cloud_Security_Finalized  .pptx        9710626   \n",
      "159                           Syed_Secure_CC_Framework  .pptx       14500925   \n",
      "160                                     Web-of-Science  .pptx        9397015   \n",
      "162                              Week-5-Cloud_Security  .pptx        9989694   \n",
      "163                        Week-6-Cloud_Virtualization  .pptx        8586587   \n",
      "164                                  ~$Cloud_Computing  .pptx              0   \n",
      "248                 Lecture 1 - RM - Dr. Altaf Hussain  .pptx        1514036   \n",
      "249  Lecture 2 - RM - Dr. Altaf Hussain - Literatur...  .pptx       18675851   \n",
      "259                       TPL_ppt-MSCS-Fall22--updated  .pptx         169515   \n",
      "260                                TPL_ppt-MSCS-Fall22  .pptx         163890   \n",
      "\n",
      "                                                  Path  \n",
      "0    C:/Users/hp/Google Drive/MSCS/Semester 01 (Fal...  \n",
      "1    C:/Users/hp/Google Drive/MSCS/Semester 01 (Fal...  \n",
      "4    C:/Users/hp/Google Drive/MSCS/Semester 01 (Fal...  \n",
      "5    C:/Users/hp/Google Drive/MSCS/Semester 01 (Fal...  \n",
      "6    C:/Users/hp/Google Drive/MSCS/Semester 01 (Fal...  \n",
      "12   C:/Users/hp/Google Drive/MSCS/Semester 01 (Fal...  \n",
      "13   C:/Users/hp/Google Drive/MSCS/Semester 01 (Fal...  \n",
      "153  C:/Users/hp/Google Drive/MSCS/Semester 01 (Fal...  \n",
      "155  C:/Users/hp/Google Drive/MSCS/Semester 01 (Fal...  \n",
      "156  C:/Users/hp/Google Drive/MSCS/Semester 01 (Fal...  \n",
      "157  C:/Users/hp/Google Drive/MSCS/Semester 01 (Fal...  \n",
      "158  C:/Users/hp/Google Drive/MSCS/Semester 01 (Fal...  \n",
      "159  C:/Users/hp/Google Drive/MSCS/Semester 01 (Fal...  \n",
      "160  C:/Users/hp/Google Drive/MSCS/Semester 01 (Fal...  \n",
      "162  C:/Users/hp/Google Drive/MSCS/Semester 01 (Fal...  \n",
      "163  C:/Users/hp/Google Drive/MSCS/Semester 01 (Fal...  \n",
      "164  C:/Users/hp/Google Drive/MSCS/Semester 01 (Fal...  \n",
      "248  C:/Users/hp/Google Drive/MSCS/Semester 01 (Fal...  \n",
      "249  C:/Users/hp/Google Drive/MSCS/Semester 01 (Fal...  \n",
      "259  C:/Users/hp/Google Drive/MSCS/Semester 01 (Fal...  \n",
      "260  C:/Users/hp/Google Drive/MSCS/Semester 01 (Fal...  \n"
     ]
    }
   ],
   "source": [
    "import os\n",
    "import pandas as pd\n",
    "\n",
    "fileNames = []\n",
    "dirNames = []\n",
    "fileSize = []\n",
    "filePath = []\n",
    "fileFormat = []\n",
    "\n",
    "Data = {}\n",
    "\n",
    "topDirPath = \"C:/Users/hp/Google Drive/MSCS/Semester 01 (Fall 2022)\"\n",
    "for dirPath, dirName, fileName in os.walk(topDirPath):\n",
    "    \n",
    "    for file in fileName:\n",
    "        if file is not None:\n",
    "            nameAndFormat = os.path.splitext(file)\n",
    "            \n",
    "            fileNames.append(nameAndFormat[0])\n",
    "            fileFormat.append(nameAndFormat[1])\n",
    "            filePath.append(dirPath)\n",
    "            fileSize.append(os.path.getsize(dirPath+f\"\\\\{file}\"))\n",
    "\n",
    "    Data[\"Name Of File\"] = fileNames\n",
    "    Data[\"Format\"] = fileFormat\n",
    "    Data[\"Size in Bytes\"] = fileSize\n",
    "    Data[\"Path\"] = filePath\n",
    "\n",
    "\n",
    "            # fileNames.append(file)\n",
    "            # filePath.append(dirPath)\n",
    "            # fileSize.append(os.path.getsize(dirPath+f\"\\\\{file}\"))\n",
    "    \n",
    "    for dir in dirName:\n",
    "       if dir is not None:\n",
    "            dirNames.append(dir)\n",
    "            # dirSize = os.path.getsize(dir)\n",
    "\n",
    "df = pd.DataFrame(Data)\n",
    "df.to_excel(\"DirectoriesDataSet.xlsx\", index=False)\n",
    "\n",
    "\n",
    "PPT = df[df[\"Format\"] == \".pptx\"]\n",
    "print(PPT)\n",
    "\n",
    "\n",
    "# print(f\"{dirSize} bytes\")\n",
    "# print(fileNames[1])\n",
    "# print(os.path.splitext(fileNames[1])[1])\n",
    "# print(f\"Total number of files: {len(fileNames)}\",\"\\n\", fileNames)\n",
    "\n",
    "# print(f\"\\n Total number of directories: {len(dirNames)}\",\"\\n\", dirNames)\n"
   ]
  },
  {
   "cell_type": "code",
   "execution_count": null,
   "metadata": {},
   "outputs": [],
   "source": []
  }
 ],
 "metadata": {
  "kernelspec": {
   "display_name": "Python 3",
   "language": "python",
   "name": "python3"
  },
  "language_info": {
   "codemirror_mode": {
    "name": "ipython",
    "version": 3
   },
   "file_extension": ".py",
   "mimetype": "text/x-python",
   "name": "python",
   "nbconvert_exporter": "python",
   "pygments_lexer": "ipython3",
   "version": "3.9.1"
  },
  "orig_nbformat": 4,
  "vscode": {
   "interpreter": {
    "hash": "b671c20432fcd147198c92e7f072af9e705f087eb990bee22b07f08caab9f630"
   }
  }
 },
 "nbformat": 4,
 "nbformat_minor": 2
}
