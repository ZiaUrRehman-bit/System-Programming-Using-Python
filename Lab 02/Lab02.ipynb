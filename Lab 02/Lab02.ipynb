{
 "cells": [
  {
   "attachments": {},
   "cell_type": "markdown",
   "metadata": {},
   "source": [
    "## **<center><font style=\"color:rgb(100,109,254)\">System Programming Using Python Programming Language</font> </center>**\n",
    "### **<center><font style=\"color:rgb(100,109,254)\">Lab 02</font> </center>**"
   ]
  },
  {
   "attachments": {},
   "cell_type": "markdown",
   "metadata": {},
   "source": [
    "### **Directory and File Analysis Using OS, and Pandas**"
   ]
  },
  {
   "attachments": {},
   "cell_type": "markdown",
   "metadata": {},
   "source": [
    "### 1. Import Libraries"
   ]
  },
  {
   "cell_type": "code",
   "execution_count": 22,
   "metadata": {},
   "outputs": [],
   "source": [
    "import os\n",
    "import pandas as pd"
   ]
  },
  {
   "attachments": {},
   "cell_type": "markdown",
   "metadata": {},
   "source": [
    "### 2. Provide Directory Path"
   ]
  },
  {
   "cell_type": "code",
   "execution_count": 23,
   "metadata": {},
   "outputs": [],
   "source": [
    "topDirPath = \"C:/Users/hp/Google Drive/MSCS/Semester 01 (Fall 2022)\""
   ]
  },
  {
   "attachments": {},
   "cell_type": "markdown",
   "metadata": {},
   "source": [
    "### 3. Get the attributes(Files Name, Format, size etc.)"
   ]
  },
  {
   "cell_type": "code",
   "execution_count": 24,
   "metadata": {},
   "outputs": [],
   "source": [
    "fileNames = []\n",
    "dirNames = []\n",
    "fileSize = []\n",
    "filePath = []\n",
    "fileFormat = []\n",
    "\n",
    "for dirPath, dirName, fileName in os.walk(topDirPath):\n",
    "    \n",
    "    for file in fileName:\n",
    "        if file is not None:\n",
    "            nameAndFormat = os.path.splitext(file)\n",
    "            \n",
    "            fileNames.append(nameAndFormat[0])\n",
    "            fileFormat.append(nameAndFormat[1])\n",
    "            filePath.append(dirPath)\n",
    "            fileSize.append(os.path.getsize(dirPath+f\"\\\\{file}\"))\n",
    "            \n",
    "    for dir in dirName:\n",
    "       if dir is not None:\n",
    "            dirNames.append(dir)"
   ]
  },
  {
   "attachments": {},
   "cell_type": "markdown",
   "metadata": {},
   "source": [
    "### 4. Store Infromation in Dictionary"
   ]
  },
  {
   "cell_type": "code",
   "execution_count": 50,
   "metadata": {},
   "outputs": [],
   "source": [
    "Data = {}\n",
    "\n",
    "Data[\"Name Of File\"] = fileNames\n",
    "Data[\"Format\"] = fileFormat\n",
    "Data[\"Size in Bytes\"] = fileSize\n",
    "Data[\"Path\"] = filePath"
   ]
  },
  {
   "attachments": {},
   "cell_type": "markdown",
   "metadata": {},
   "source": [
    "### 5. Convert Dictionary to Data Frame"
   ]
  },
  {
   "cell_type": "code",
   "execution_count": 51,
   "metadata": {},
   "outputs": [],
   "source": [
    "df = pd.DataFrame(Data)"
   ]
  },
  {
   "attachments": {},
   "cell_type": "markdown",
   "metadata": {},
   "source": [
    "### 6. Get the information of .PPT files from Data Frame"
   ]
  },
  {
   "cell_type": "code",
   "execution_count": 45,
   "metadata": {},
   "outputs": [],
   "source": [
    "PPT = df[df[\"Format\"] == \".pptx\"]"
   ]
  },
  {
   "attachments": {},
   "cell_type": "markdown",
   "metadata": {},
   "source": [
    "### 7. Get the information of .DOC files from Data Frame"
   ]
  },
  {
   "cell_type": "code",
   "execution_count": 44,
   "metadata": {},
   "outputs": [],
   "source": [
    "DOC = df[df[\"Format\"] == \".docx\"]"
   ]
  },
  {
   "attachments": {},
   "cell_type": "markdown",
   "metadata": {},
   "source": [
    "### 8. Get the information of .pdf files from Data Frame"
   ]
  },
  {
   "cell_type": "code",
   "execution_count": 47,
   "metadata": {},
   "outputs": [],
   "source": [
    "PDF = df[df[\"Format\"] == \".pdf\"]"
   ]
  },
  {
   "attachments": {},
   "cell_type": "markdown",
   "metadata": {},
   "source": [
    "### 9. Store the Information in Excel File"
   ]
  },
  {
   "cell_type": "code",
   "execution_count": 49,
   "metadata": {},
   "outputs": [],
   "source": [
    "with pd.ExcelWriter(\"DirectoriesDataSet.xlsx\") as writer:\n",
    "    df.to_excel(writer, sheet_name=\"Comprehensive\", index=False)\n",
    "    PPT.to_excel(writer, sheet_name=\"PPT Files\", index=False)\n",
    "    DOC.to_excel(writer, sheet_name=\"DOC Files\", index=False)\n",
    "    PDF.to_excel(writer, sheet_name=\"PDF Files\", index=False)"
   ]
  },
  {
   "attachments": {},
   "cell_type": "markdown",
   "metadata": {},
   "source": [
    "### 10. Get the total Size of PPT, DOC, and PDF files in MB"
   ]
  },
  {
   "cell_type": "code",
   "execution_count": 64,
   "metadata": {},
   "outputs": [
    {
     "data": {
      "text/plain": [
       "[130.94, 1.56, 47.34]"
      ]
     },
     "execution_count": 64,
     "metadata": {},
     "output_type": "execute_result"
    }
   ],
   "source": [
    "sizeInMb = []\n",
    "sizeInMb.append(round(PPT[\"Size in Bytes\"].sum()/1000000, 2))\n",
    "sizeInMb.append(round(DOC[\"Size in Bytes\"].sum()/1000000, 2))\n",
    "sizeInMb.append(round(PDF[\"Size in Bytes\"].sum()/1000000, 2))\n",
    "sizeInMb"
   ]
  },
  {
   "attachments": {},
   "cell_type": "markdown",
   "metadata": {},
   "source": [
    "### 11. Plot Pie chart forthe size of each format"
   ]
  },
  {
   "cell_type": "code",
   "execution_count": 73,
   "metadata": {},
   "outputs": [
    {
     "data": {
      "image/png": "[encoded data removed]",
      "text/plain": [
       "<Figure size 640x480 with 1 Axes>"
      ]
     },
     "metadata": {},
     "output_type": "display_data"
    },
    {
     "data": {
      "text/plain": [
       "Text(0.5, 1.0, 'File size Comparison')"
      ]
     },
     "execution_count": 73,
     "metadata": {},
     "output_type": "execute_result"
    },
    {
     "data": {
      "image/png": "[encoded data removed]",
      "text/plain": [
       "<Figure size 640x480 with 1 Axes>"
      ]
     },
     "metadata": {},
     "output_type": "display_data"
    }
   ],
   "source": [
    "import matplotlib.pyplot as plt\n",
    "\n",
    "labels = [\".pptx\", \".docx\", \".pdf\"]\n",
    "colors = ['red', 'green', 'blue']\n",
    "\n",
    "plt.figure(1)\n",
    "plt.pie(sizeInMb, labels=labels, autopct='%1.1f%%')\n",
    "plt.title('File size Comparison')\n",
    "plt.show()\n",
    "\n",
    "plt.figure(2)\n",
    "plt.bar(labels, sizeInMb, color = colors)\n",
    "plt.xlabel('File Formats')\n",
    "plt.ylabel('Size in Mb')\n",
    "plt.title('File size Comparison')"
   ]
  },
  {
   "attachments": {},
   "cell_type": "markdown",
   "metadata": {},
   "source": [
    "### **<center><font style=\"color:rgb(255, 0,0)\">Full Code</font> </center>**"
   ]
  },
  {
   "cell_type": "code",
   "execution_count": 75,
   "metadata": {},
   "outputs": [
    {
     "data": {
      "image/png": "[encoded data removed]",
      "text/plain": [
       "<Figure size 640x480 with 1 Axes>"
      ]
     },
     "metadata": {},
     "output_type": "display_data"
    },
    {
     "data": {
      "text/plain": [
       "Text(0.5, 1.0, 'File size Comparison')"
      ]
     },
     "execution_count": 75,
     "metadata": {},
     "output_type": "execute_result"
    },
    {
     "data": {
      "image/png": "[encoded data removed]",
      "text/plain": [
       "<Figure size 640x480 with 1 Axes>"
      ]
     },
     "metadata": {},
     "output_type": "display_data"
    }
   ],
   "source": [
    "import os\n",
    "import pandas as pd\n",
    "\n",
    "fileNames = []\n",
    "dirNames = []\n",
    "fileSize = []\n",
    "filePath = []\n",
    "fileFormat = []\n",
    "\n",
    "for dirPath, dirName, fileName in os.walk(topDirPath):\n",
    "    \n",
    "    for file in fileName:\n",
    "        if file is not None:\n",
    "            nameAndFormat = os.path.splitext(file)\n",
    "            \n",
    "            fileNames.append(nameAndFormat[0])\n",
    "            fileFormat.append(nameAndFormat[1])\n",
    "            filePath.append(dirPath)\n",
    "            fileSize.append(os.path.getsize(dirPath+f\"\\\\{file}\"))\n",
    "            \n",
    "    for dir in dirName:\n",
    "       if dir is not None:\n",
    "            dirNames.append(dir)\n",
    "\n",
    "Data = {}\n",
    "\n",
    "Data[\"Name Of File\"] = fileNames\n",
    "Data[\"Format\"] = fileFormat\n",
    "Data[\"Size in Bytes\"] = fileSize\n",
    "Data[\"Path\"] = filePath\n",
    "\n",
    "df = pd.DataFrame(Data)\n",
    "PPT = df[df[\"Format\"] == \".pptx\"]\n",
    "DOC = df[df[\"Format\"] == \".docx\"]\n",
    "PDF = df[df[\"Format\"] == \".pdf\"]\n",
    "\n",
    "with pd.ExcelWriter(\"DirectoriesDataSet.xlsx\") as writer:\n",
    "    df.to_excel(writer, sheet_name=\"Comprehensive\", index=False)\n",
    "    PPT.to_excel(writer, sheet_name=\"PPT Files\", index=False)\n",
    "    DOC.to_excel(writer, sheet_name=\"DOC Files\", index=False)\n",
    "    PDF.to_excel(writer, sheet_name=\"PDF Files\", index=False)\n",
    "\n",
    "sizeInMb = []\n",
    "sizeInMb.append(round(PPT[\"Size in Bytes\"].sum()/1000000, 2))\n",
    "sizeInMb.append(round(DOC[\"Size in Bytes\"].sum()/1000000, 2))\n",
    "sizeInMb.append(round(PDF[\"Size in Bytes\"].sum()/1000000, 2))\n",
    "\n",
    "\n",
    "import matplotlib.pyplot as plt\n",
    "\n",
    "labels = [\".pptx\", \".docx\", \".pdf\"]\n",
    "colors = ['red', 'green', 'blue']\n",
    "\n",
    "plt.figure(1)\n",
    "plt.pie(sizeInMb, labels=labels, autopct='%1.1f%%')\n",
    "plt.title('File size Comparison')\n",
    "plt.show()\n",
    "\n",
    "plt.figure(2)\n",
    "plt.bar(labels, sizeInMb, color = colors)\n",
    "plt.xlabel('File Formats')\n",
    "plt.ylabel('Size in Mb')\n",
    "plt.title('File size Comparison')\n"
   ]
  },
  {
   "attachments": {},
   "cell_type": "markdown",
   "metadata": {},
   "source": [
    "### **PSUTIL Library**"
   ]
  },
  {
   "attachments": {},
   "cell_type": "markdown",
   "metadata": {},
   "source": [
    "**psutil** is a Python library that provides an interface for retrieving information about running processes and system utilization (such as CPU, memory, disk, and network usage) on various platforms (such as Linux, Windows, macOS, and BSD). It can be used to obtain detailed system information that is not easily available through standard Python libraries.\n",
    "\n",
    "The psutil library provides a rich set of functions and classes to retrieve and manipulate system and process information. Some of the most commonly used functions and classes in psutil include:\n",
    "\n",
    "* **psutil.cpu_percent():** Returns the current CPU usage as a percentage.\n",
    "* **psutil.virtual_memory():** Returns information about the system's virtual memory usage.\n",
    "* **psutil.disk_usage():** Returns information about the usage of a specified disk partition.\n",
    "* **psutil.net_io_counters():** Returns information about network I/O statistics.\n",
    "* **psutil.Process(pid):** Returns a Process object for the process with the specified process ID (PID)."
   ]
  },
  {
   "attachments": {},
   "cell_type": "markdown",
   "metadata": {},
   "source": [
    "### 1. Getting the Running Processes Names and there Process Id's"
   ]
  },
  {
   "cell_type": "code",
   "execution_count": 2,
   "metadata": {},
   "outputs": [],
   "source": [
    "import psutil"
   ]
  },
  {
   "attachments": {},
   "cell_type": "markdown",
   "metadata": {},
   "source": [
    "#### 1.1 Get list of currently running processes"
   ]
  },
  {
   "cell_type": "code",
   "execution_count": 23,
   "metadata": {},
   "outputs": [],
   "source": [
    "currRunnProcessName = []\n",
    "currRunnProcessId = []\n",
    "status = []\n",
    "\n",
    "for p in psutil.process_iter():\n",
    "    # print(p)\n",
    "    currRunnProcessName.append(p.name())\n",
    "    currRunnProcessId.append(p.pid)\n",
    "    status.append(p.status())\n",
    "    \n",
    "# print(status)\n",
    "# print(currRunnProcessName)\n",
    "# print(currRunnProcessId)\n"
   ]
  },
  {
   "attachments": {},
   "cell_type": "markdown",
   "metadata": {},
   "source": [
    "#### 1.2 Store in dictionary"
   ]
  },
  {
   "cell_type": "code",
   "execution_count": 24,
   "metadata": {},
   "outputs": [],
   "source": [
    "processData = {}\n",
    "\n",
    "processData[\"Name\"] = currRunnProcessName\n",
    "processData[\"PID\"] = currRunnProcessId\n",
    "processData[\"Status\"] = status"
   ]
  },
  {
   "attachments": {},
   "cell_type": "markdown",
   "metadata": {},
   "source": [
    "#### 1.3 Convert dictionary to data frame"
   ]
  },
  {
   "cell_type": "code",
   "execution_count": 25,
   "metadata": {},
   "outputs": [
    {
     "name": "stdout",
     "output_type": "stream",
     "text": [
      "----------------------------------------------------------------------\n",
      "\n",
      "\t\t Currently Running Processes\n",
      "\n",
      "----------------------------------------------------------------------\n"
     ]
    },
    {
     "data": {
      "text/html": [
       "<div>\n",
       "<style scoped>\n",
       "    .dataframe tbody tr th:only-of-type {\n",
       "        vertical-align: middle;\n",
       "    }\n",
       "\n",
       "    .dataframe tbody tr th {\n",
       "        vertical-align: top;\n",
       "    }\n",
       "\n",
       "    .dataframe thead th {\n",
       "        text-align: right;\n",
       "    }\n",
       "</style>\n",
       "<table border=\"1\" class=\"dataframe\">\n",
       "  <thead>\n",
       "    <tr style=\"text-align: right;\">\n",
       "      <th></th>\n",
       "      <th>Name</th>\n",
       "      <th>PID</th>\n",
       "      <th>Status</th>\n",
       "    </tr>\n",
       "  </thead>\n",
       "  <tbody>\n",
       "    <tr>\n",
       "      <th>0</th>\n",
       "      <td>System Idle Process</td>\n",
       "      <td>0</td>\n",
       "      <td>running</td>\n",
       "    </tr>\n",
       "    <tr>\n",
       "      <th>1</th>\n",
       "      <td>System</td>\n",
       "      <td>4</td>\n",
       "      <td>running</td>\n",
       "    </tr>\n",
       "    <tr>\n",
       "      <th>2</th>\n",
       "      <td>svchost.exe</td>\n",
       "      <td>72</td>\n",
       "      <td>running</td>\n",
       "    </tr>\n",
       "    <tr>\n",
       "      <th>3</th>\n",
       "      <td>Registry</td>\n",
       "      <td>100</td>\n",
       "      <td>running</td>\n",
       "    </tr>\n",
       "    <tr>\n",
       "      <th>4</th>\n",
       "      <td>msedge.exe</td>\n",
       "      <td>244</td>\n",
       "      <td>running</td>\n",
       "    </tr>\n",
       "    <tr>\n",
       "      <th>...</th>\n",
       "      <td>...</td>\n",
       "      <td>...</td>\n",
       "      <td>...</td>\n",
       "    </tr>\n",
       "    <tr>\n",
       "      <th>245</th>\n",
       "      <td>chrome.exe</td>\n",
       "      <td>16360</td>\n",
       "      <td>running</td>\n",
       "    </tr>\n",
       "    <tr>\n",
       "      <th>246</th>\n",
       "      <td>RuntimeBroker.exe</td>\n",
       "      <td>16480</td>\n",
       "      <td>running</td>\n",
       "    </tr>\n",
       "    <tr>\n",
       "      <th>247</th>\n",
       "      <td>LockApp.exe</td>\n",
       "      <td>16500</td>\n",
       "      <td>stopped</td>\n",
       "    </tr>\n",
       "    <tr>\n",
       "      <th>248</th>\n",
       "      <td>chrome.exe</td>\n",
       "      <td>16536</td>\n",
       "      <td>running</td>\n",
       "    </tr>\n",
       "    <tr>\n",
       "      <th>249</th>\n",
       "      <td>Code.exe</td>\n",
       "      <td>17188</td>\n",
       "      <td>running</td>\n",
       "    </tr>\n",
       "  </tbody>\n",
       "</table>\n",
       "<p>250 rows × 3 columns</p>\n",
       "</div>"
      ],
      "text/plain": [
       "                    Name    PID   Status\n",
       "0    System Idle Process      0  running\n",
       "1                 System      4  running\n",
       "2            svchost.exe     72  running\n",
       "3               Registry    100  running\n",
       "4             msedge.exe    244  running\n",
       "..                   ...    ...      ...\n",
       "245           chrome.exe  16360  running\n",
       "246    RuntimeBroker.exe  16480  running\n",
       "247          LockApp.exe  16500  stopped\n",
       "248           chrome.exe  16536  running\n",
       "249             Code.exe  17188  running\n",
       "\n",
       "[250 rows x 3 columns]"
      ]
     },
     "execution_count": 25,
     "metadata": {},
     "output_type": "execute_result"
    }
   ],
   "source": [
    "import pandas as pd\n",
    "\n",
    "PData = pd.DataFrame(processData)\n",
    "\n",
    "\n",
    "print(\"----------------------------------------------------------------------\")\n",
    "print(\"\\n\\t\\t Currently Running Processes\\n\")\n",
    "print(\"----------------------------------------------------------------------\")\n",
    "\n",
    "PData"
   ]
  },
  {
   "attachments": {},
   "cell_type": "markdown",
   "metadata": {},
   "source": [
    "### 2. Finding the CPU utilization of each process"
   ]
  },
  {
   "cell_type": "code",
   "execution_count": 26,
   "metadata": {},
   "outputs": [
    {
     "name": "stdout",
     "output_type": "stream",
     "text": [
      "System Idle Process (PID 0): 139.1%\n",
      "System (PID 4): 10.9%\n",
      "svchost.exe (PID 72): 0.0%\n",
      "Registry (PID 100): 0.0%\n",
      "msedge.exe (PID 244): 0.0%\n",
      "smss.exe (PID 412): 0.0%\n",
      "fontdrvhost.exe (PID 472): 0.0%\n",
      "csrss.exe (PID 648): 0.0%\n",
      "WUDFHost.exe (PID 728): 0.0%\n",
      "wininit.exe (PID 736): 0.0%\n",
      "services.exe (PID 884): 0.0%\n",
      "lsass.exe (PID 892): 0.0%\n",
      "chrome.exe (PID 1028): 0.0%\n",
      "svchost.exe (PID 1056): 0.0%\n",
      "svchost.exe (PID 1112): 0.0%\n",
      "svchost.exe (PID 1124): 0.0%\n",
      "Code.exe (PID 1232): 0.0%\n",
      "igfxEM.exe (PID 1248): 0.0%\n",
      "svchost.exe (PID 1324): 0.0%\n",
      "svchost.exe (PID 1332): 0.0%\n",
      "svchost.exe (PID 1340): 0.0%\n",
      "svchost.exe (PID 1428): 0.0%\n",
      "svchost.exe (PID 1488): 0.0%\n",
      "svchost.exe (PID 1504): 0.0%\n",
      "Code.exe (PID 1532): 28.1%\n",
      "svchost.exe (PID 1592): 0.0%\n",
      "svchost.exe (PID 1640): 0.0%\n",
      "svchost.exe (PID 1720): 0.0%\n",
      "svchost.exe (PID 1732): 0.0%\n",
      "WUDFHost.exe (PID 1752): 0.0%\n",
      "svchost.exe (PID 1804): 0.0%\n",
      "conhost.exe (PID 1836): 0.0%\n",
      "smartscreen.exe (PID 1840): 0.0%\n",
      "svchost.exe (PID 1852): 0.0%\n",
      "svchost.exe (PID 1880): 0.0%\n",
      "explorer.exe (PID 1884): 0.0%\n",
      "svchost.exe (PID 1940): 0.0%\n",
      "svchost.exe (PID 1992): 0.0%\n",
      "chrome.exe (PID 2004): 0.0%\n",
      "svchost.exe (PID 2008): 0.0%\n",
      "svchost.exe (PID 2016): 0.0%\n",
      "svchost.exe (PID 2088): 0.0%\n",
      "msedge.exe (PID 2140): 0.0%\n",
      "svchost.exe (PID 2212): 0.0%\n",
      "svchost.exe (PID 2312): 0.0%\n",
      "svchost.exe (PID 2324): 0.0%\n",
      "svchost.exe (PID 2364): 0.0%\n",
      "chrome.exe (PID 2376): 0.0%\n",
      "dwm.exe (PID 2392): 31.2%\n",
      "Code.exe (PID 2400): 0.0%\n",
      "svchost.exe (PID 2408): 0.0%\n",
      "msedge.exe (PID 2424): 0.0%\n",
      "svchost.exe (PID 2436): 0.0%\n",
      "svchost.exe (PID 2452): 0.0%\n",
      "svchost.exe (PID 2492): 0.0%\n"
     ]
    },
    {
     "ename": "KeyboardInterrupt",
     "evalue": "",
     "output_type": "error",
     "traceback": [
      "\u001b[1;31m---------------------------------------------------------------------------\u001b[0m",
      "\u001b[1;31mKeyboardInterrupt\u001b[0m                         Traceback (most recent call last)",
      "Cell \u001b[1;32mIn [26], line 6\u001b[0m\n\u001b[0;32m      3\u001b[0m process_id \u001b[39m=\u001b[39m process\u001b[39m.\u001b[39mpid\n\u001b[0;32m      5\u001b[0m \u001b[39m# Get the process CPU utilization\u001b[39;00m\n\u001b[1;32m----> 6\u001b[0m cpu_percent \u001b[39m=\u001b[39m process\u001b[39m.\u001b[39;49mcpu_percent(interval\u001b[39m=\u001b[39;49m\u001b[39m1.0\u001b[39;49m)\n\u001b[0;32m      8\u001b[0m \u001b[39m# Print the process name, ID, and CPU utilization\u001b[39;00m\n\u001b[0;32m      9\u001b[0m \u001b[39mprint\u001b[39m(\u001b[39mf\u001b[39m\u001b[39m\"\u001b[39m\u001b[39m{\u001b[39;00mprocess_name\u001b[39m}\u001b[39;00m\u001b[39m (PID \u001b[39m\u001b[39m{\u001b[39;00mprocess_id\u001b[39m}\u001b[39;00m\u001b[39m): \u001b[39m\u001b[39m{\u001b[39;00mcpu_percent\u001b[39m}\u001b[39;00m\u001b[39m%\u001b[39m\u001b[39m\"\u001b[39m)\n",
      "File \u001b[1;32mc:\\Users\\hp\\AppData\\Local\\Programs\\Python\\Python39\\lib\\site-packages\\psutil\\__init__.py:988\u001b[0m, in \u001b[0;36mProcess.cpu_percent\u001b[1;34m(self, interval)\u001b[0m\n\u001b[0;32m    986\u001b[0m st1 \u001b[39m=\u001b[39m timer()\n\u001b[0;32m    987\u001b[0m pt1 \u001b[39m=\u001b[39m \u001b[39mself\u001b[39m\u001b[39m.\u001b[39m_proc\u001b[39m.\u001b[39mcpu_times()\n\u001b[1;32m--> 988\u001b[0m time\u001b[39m.\u001b[39;49msleep(interval)\n\u001b[0;32m    989\u001b[0m st2 \u001b[39m=\u001b[39m timer()\n\u001b[0;32m    990\u001b[0m pt2 \u001b[39m=\u001b[39m \u001b[39mself\u001b[39m\u001b[39m.\u001b[39m_proc\u001b[39m.\u001b[39mcpu_times()\n",
      "\u001b[1;31mKeyboardInterrupt\u001b[0m: "
     ]
    }
   ],
   "source": [
    "\n",
    "for process in psutil.process_iter():\n",
    "    process_name = process.name()\n",
    "    process_id = process.pid\n",
    "        \n",
    "    # Get the process CPU utilization\n",
    "    cpu_percent = process.cpu_percent(interval=1.0)\n",
    "        \n",
    "    # Print the process name, ID, and CPU utilization\n",
    "    print(f\"{process_name} (PID {process_id}): {cpu_percent}%\")"
   ]
  },
  {
   "cell_type": "code",
   "execution_count": 1,
   "metadata": {},
   "outputs": [
    {
     "name": "stdout",
     "output_type": "stream",
     "text": [
      "System Idle Process (PID 0)\n",
      "System (PID 4)\n",
      "svchost.exe (PID 72)\n",
      "Registry (PID 100)\n",
      "msedge.exe (PID 244)\n",
      "smss.exe (PID 412)\n",
      "fontdrvhost.exe (PID 472)\n",
      "csrss.exe (PID 648)\n",
      "WUDFHost.exe (PID 728)\n",
      "wininit.exe (PID 736)\n",
      "services.exe (PID 884)\n",
      "lsass.exe (PID 892)\n",
      "chrome.exe (PID 1028)\n",
      "svchost.exe (PID 1056)\n",
      "svchost.exe (PID 1112)\n",
      "svchost.exe (PID 1124)\n",
      "igfxEM.exe (PID 1248)\n",
      "svchost.exe (PID 1324)\n",
      "svchost.exe (PID 1332)\n",
      "svchost.exe (PID 1340)\n",
      "GoogleDriveFS.exe (PID 1396)\n",
      "svchost.exe (PID 1428)\n",
      "svchost.exe (PID 1488)\n",
      "svchost.exe (PID 1504)\n",
      "Code.exe (PID 1532)\n",
      "svchost.exe (PID 1592)\n",
      "svchost.exe (PID 1640)\n",
      "svchost.exe (PID 1720)\n",
      "svchost.exe (PID 1732)\n",
      "WUDFHost.exe (PID 1752)\n",
      "svchost.exe (PID 1804)\n",
      "conhost.exe (PID 1836)\n",
      "smartscreen.exe (PID 1840)\n",
      "svchost.exe (PID 1852)\n",
      "svchost.exe (PID 1880)\n",
      "explorer.exe (PID 1884)\n",
      "svchost.exe (PID 1940)\n",
      "svchost.exe (PID 1992)\n",
      "chrome.exe (PID 2004)\n",
      "svchost.exe (PID 2008)\n",
      "svchost.exe (PID 2016)\n",
      "svchost.exe (PID 2088)\n",
      "msedge.exe (PID 2140)\n",
      "GoogleDriveFS.exe (PID 2160)\n",
      "svchost.exe (PID 2212)\n",
      "svchost.exe (PID 2312)\n",
      "svchost.exe (PID 2324)\n",
      "svchost.exe (PID 2364)\n",
      "chrome.exe (PID 2376)\n",
      "GoogleDriveFS.exe (PID 2388)\n",
      "dwm.exe (PID 2392)\n",
      "Code.exe (PID 2400)\n",
      "svchost.exe (PID 2408)\n",
      "msedge.exe (PID 2424)\n",
      "svchost.exe (PID 2436)\n",
      "svchost.exe (PID 2452)\n",
      "svchost.exe (PID 2492)\n",
      "ShellExperienceHost.exe (PID 2548)\n",
      "chrome.exe (PID 2572)\n",
      "svchost.exe (PID 2596)\n",
      "MemCompression (PID 2604)\n",
      "sihost.exe (PID 2676)\n",
      "igfxCUIService.exe (PID 2688)\n",
      "svchost.exe (PID 2732)\n",
      "svchost.exe (PID 2784)\n",
      "svchost.exe (PID 2792)\n",
      "svchost.exe (PID 2828)\n",
      "svchost.exe (PID 2840)\n",
      "svchost.exe (PID 2876)\n",
      "chrome.exe (PID 2980)\n",
      "dasHost.exe (PID 3032)\n",
      "svchost.exe (PID 3116)\n",
      "svchost.exe (PID 3124)\n",
      "Code.exe (PID 3200)\n",
      "svchost.exe (PID 3288)\n",
      "rundll32.exe (PID 3384)\n",
      "taskhostw.exe (PID 3564)\n",
      "svchost.exe (PID 3644)\n",
      "svchost.exe (PID 3688)\n",
      "svchost.exe (PID 3736)\n",
      "Video.UI.exe (PID 3788)\n",
      "svchost.exe (PID 3820)\n",
      "svchost.exe (PID 3832)\n",
      "svchost.exe (PID 3920)\n",
      "chrome.exe (PID 3932)\n",
      "svchost.exe (PID 3944)\n",
      "dasHost.exe (PID 3964)\n",
      "svchost.exe (PID 4000)\n",
      "svchost.exe (PID 4032)\n",
      "esif_assist_64.exe (PID 4052)\n",
      "RtkAudioService64.exe (PID 4076)\n",
      "python.exe (PID 4160)\n",
      "svchost.exe (PID 4236)\n",
      "RAVBg64.exe (PID 4252)\n",
      "svchost.exe (PID 4268)\n",
      "svchost.exe (PID 4304)\n",
      "svchost.exe (PID 4376)\n",
      "svchost.exe (PID 4420)\n",
      "GoogleDriveFS.exe (PID 4540)\n",
      "spoolsv.exe (PID 4548)\n",
      "svchost.exe (PID 4616)\n",
      "chrome.exe (PID 4640)\n",
      "svchost.exe (PID 4744)\n",
      "svchost.exe (PID 4756)\n",
      "svchost.exe (PID 4768)\n",
      "chrome.exe (PID 4852)\n",
      "mDNSResponder.exe (PID 4868)\n",
      "svchost.exe (PID 4908)\n",
      "OfficeClickToRun.exe (PID 4948)\n",
      "svchost.exe (PID 4956)\n",
      "svchost.exe (PID 4976)\n",
      "chrome.exe (PID 5048)\n",
      "GoogleCrashHandler.exe (PID 5060)\n",
      "GoogleCrashHandler64.exe (PID 5072)\n",
      "esif_uf.exe (PID 5076)\n",
      "ETDService.exe (PID 5108)\n",
      "HPSupportSolutionsFrameworkService.exe (PID 5124)\n",
      "ibtsiva.exe (PID 5132)\n",
      "chrome.exe (PID 5188)\n",
      "svchost.exe (PID 5200)\n",
      "RtkNGUI64.exe (PID 5212)\n",
      "svchost.exe (PID 5244)\n",
      "SangforPWEx.exe (PID 5280)\n",
      "SangforPromoteService.exe (PID 5288)\n",
      "svchost.exe (PID 5320)\n",
      "svchost.exe (PID 5344)\n",
      "svchost.exe (PID 5348)\n",
      "svchost.exe (PID 5360)\n",
      "WirelessBackupService.exe (PID 5380)\n",
      "TeamViewer_Service.exe (PID 5388)\n",
      "XtuService.exe (PID 5448)\n",
      "InstallAssistService.exe (PID 5464)\n",
      "MsMpEng.exe (PID 5476)\n",
      "Code.exe (PID 5500)\n",
      "svchost.exe (PID 5524)\n",
      "chrome.exe (PID 5552)\n",
      "RuntimeBroker.exe (PID 5564)\n",
      "SgrmBroker.exe (PID 5572)\n",
      "csrss.exe (PID 5684)\n",
      "svchost.exe (PID 5772)\n",
      "wlanext.exe (PID 5908)\n",
      "conhost.exe (PID 6020)\n",
      "WmiPrvSE.exe (PID 6436)\n",
      "chrome.exe (PID 6504)\n",
      "fontdrvhost.exe (PID 6564)\n",
      "chrome.exe (PID 6784)\n",
      "UserOOBEBroker.exe (PID 6868)\n",
      "chrome.exe (PID 6876)\n",
      "svchost.exe (PID 7444)\n",
      "RuntimeBroker.exe (PID 7456)\n",
      "PresentationFontCache.exe (PID 7536)\n",
      "svchost.exe (PID 7604)\n",
      "dllhost.exe (PID 7752)\n",
      "chrome.exe (PID 7796)\n",
      "svchost.exe (PID 7828)\n",
      "TextInputHost.exe (PID 7936)\n",
      "NisSrv.exe (PID 8172)\n",
      "ApplicationFrameHost.exe (PID 8276)\n",
      "svchost.exe (PID 8296)\n",
      "svchost.exe (PID 8424)\n",
      "GoogleDriveFS.exe (PID 8560)\n",
      "dllhost.exe (PID 8628)\n",
      "wenativehost.exe (PID 8704)\n",
      "chrome.exe (PID 8724)\n",
      "svchost.exe (PID 8904)\n",
      "SearchIndexer.exe (PID 8976)\n",
      "chrome.exe (PID 9008)\n",
      "Code.exe (PID 9016)\n",
      "Cortana.exe (PID 9136)\n",
      "chrome.exe (PID 9140)\n",
      "GoogleDriveFS.exe (PID 9168)\n",
      "Code.exe (PID 9276)\n",
      "svchost.exe (PID 9456)\n",
      "python.exe (PID 9532)\n",
      "chrome.exe (PID 9692)\n",
      "conhost.exe (PID 9828)\n",
      "svchost.exe (PID 9924)\n",
      "winlogon.exe (PID 9988)\n",
      "RuntimeBroker.exe (PID 10080)\n",
      "SangforUDProtectEx.exe (PID 10128)\n",
      "crashpad_handler.exe (PID 10144)\n",
      "svchost.exe (PID 10152)\n",
      "Code.exe (PID 10220)\n",
      "chrome.exe (PID 10344)\n",
      "svchost.exe (PID 10352)\n",
      "helperservice.exe (PID 10396)\n",
      "svchost.exe (PID 10480)\n",
      "ctfmon.exe (PID 10684)\n",
      "conhost.exe (PID 10688)\n",
      "msedge.exe (PID 10724)\n",
      "SecurityHealthService.exe (PID 10768)\n",
      "chrome.exe (PID 10832)\n",
      "chrome.exe (PID 10868)\n",
      "CompPkgSrv.exe (PID 10884)\n",
      "crashpad_handler.exe (PID 10900)\n",
      "svchost.exe (PID 10904)\n",
      "conhost.exe (PID 10920)\n",
      "cmd.exe (PID 10936)\n",
      "GoogleDriveFS.exe (PID 11128)\n",
      "SystemSettings.exe (PID 11140)\n",
      "SecurityHealthSystray.exe (PID 11200)\n",
      "msedge.exe (PID 11584)\n",
      "conhost.exe (PID 11596)\n",
      "oCamTask.exe (PID 11744)\n",
      "chrome.exe (PID 11952)\n",
      "chrome.exe (PID 11992)\n",
      "chrome.exe (PID 12016)\n",
      "Microsoft.Photos.exe (PID 12084)\n",
      "conhost.exe (PID 12284)\n",
      "Code.exe (PID 12456)\n",
      "SearchApp.exe (PID 12572)\n",
      "svchost.exe (PID 12664)\n",
      "msedge.exe (PID 12684)\n",
      "chrome.exe (PID 12964)\n",
      "Code.exe (PID 12976)\n",
      "svchost.exe (PID 13060)\n",
      "svchost.exe (PID 13072)\n",
      "svchost.exe (PID 13156)\n",
      "chrome.exe (PID 13212)\n",
      "msedge.exe (PID 13220)\n",
      "StartMenuExperienceHost.exe (PID 13476)\n",
      "ETDCtrlHelper.exe (PID 13564)\n",
      "chrome.exe (PID 13628)\n",
      "chrome.exe (PID 13880)\n",
      "chrome.exe (PID 14096)\n",
      "Code.exe (PID 14100)\n",
      "svchost.exe (PID 14512)\n",
      "svchost.exe (PID 14520)\n",
      "svchost.exe (PID 14592)\n",
      "Code.exe (PID 14684)\n",
      "svchost.exe (PID 14704)\n",
      "MoUsoCoreWorker.exe (PID 14776)\n",
      "svchost.exe (PID 14804)\n",
      "RuntimeBroker.exe (PID 15112)\n",
      "chrome.exe (PID 15232)\n",
      "ETDTouch.exe (PID 15244)\n",
      "ETDCtrl.exe (PID 15356)\n",
      "TabTip.exe (PID 15428)\n",
      "python.exe (PID 15576)\n",
      "taskhostw.exe (PID 15760)\n",
      "RuntimeBroker.exe (PID 15976)\n",
      "chrome.exe (PID 16064)\n",
      "RuntimeBroker.exe (PID 16092)\n",
      "msedge.exe (PID 16164)\n",
      "ECAgent.exe (PID 16192)\n",
      "RuntimeBroker.exe (PID 16272)\n",
      "chrome.exe (PID 16360)\n",
      "RuntimeBroker.exe (PID 16480)\n",
      "LockApp.exe (PID 16500)\n",
      "chrome.exe (PID 16536)\n",
      "Code.exe (PID 17188)\n"
     ]
    }
   ],
   "source": [
    "import psutil\n",
    "\n",
    "# Get a list of all currently running processes\n",
    "processes = [p for p in psutil.process_iter()]\n",
    "\n",
    "# Print the process name and ID for each running process\n",
    "for process in processes:\n",
    "    print(f\"{process.name()} (PID {process.pid})\")"
   ]
  },
  {
   "cell_type": "code",
   "execution_count": null,
   "metadata": {},
   "outputs": [],
   "source": []
  }
 ],
 "metadata": {
  "kernelspec": {
   "display_name": "Python 3",
   "language": "python",
   "name": "python3"
  },
  "language_info": {
   "codemirror_mode": {
    "name": "ipython",
    "version": 3
   },
   "file_extension": ".py",
   "mimetype": "text/x-python",
   "name": "python",
   "nbconvert_exporter": "python",
   "pygments_lexer": "ipython3",
   "version": "3.9.1"
  },
  "orig_nbformat": 4,
  "vscode": {
   "interpreter": {
    "hash": "b671c20432fcd147198c92e7f072af9e705f087eb990bee22b07f08caab9f630"
   }
  }
 },
 "nbformat": 4,
 "nbformat_minor": 2
}
