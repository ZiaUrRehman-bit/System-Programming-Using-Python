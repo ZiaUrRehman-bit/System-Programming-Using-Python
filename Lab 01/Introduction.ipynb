{
 "cells": [
  {
   "attachments": {},
   "cell_type": "markdown",
   "metadata": {},
   "source": [
    "## **<center><font style=\"color:rgb(100,109,254)\">System Programming Using Python Programming Language</font> </center>**\n",
    "### **<center><font style=\"color:rgb(100,109,254)\">Lab 01</font> </center>**"
   ]
  },
  {
   "attachments": {},
   "cell_type": "markdown",
   "metadata": {},
   "source": [
    "Python is a high-level programming language that is often used for web development, scientific computing, data analysis, and machine learning. While Python is not typically thought of as a systems programming language, it can be used for system programming tasks.\n",
    "\n",
    "System programming involves writing code that interacts with low-level system components such as the operating system, hardware, and network. Python provides several modules and libraries that make it possible to perform system programming tasks. Some of these include:"
   ]
  },
  {
   "attachments": {},
   "cell_type": "markdown",
   "metadata": {},
   "source": [
    "* **```OS Module```** - This module provides a way to interact with the operating system, such as creating or deleting files and directories, changing permissions, and more.\n",
    "\n",
    "* **```Subprocess Module```** - This module allows you to spawn new processes, connect to their input/output/error pipes, and obtain their return codes.\n",
    "\n",
    "* **```Socket Module```** - This module provides a way to communicate with network sockets, allowing Python programs to interact with the internet, send and receive data through network connections.\n",
    "\n",
    "* **```ctypes Module```** - This module provides a way to call functions in shared libraries and access C data types from Python code.\n",
    "\n",
    "* **```multiprocessing Module```** - This module provides a way to create and manage multiple processes in a Python program."
   ]
  },
  {
   "cell_type": "code",
   "execution_count": null,
   "metadata": {},
   "outputs": [],
   "source": []
  }
 ],
 "metadata": {
  "kernelspec": {
   "display_name": "Python 3",
   "language": "python",
   "name": "python3"
  },
  "language_info": {
   "name": "python",
   "version": "3.9.1"
  },
  "orig_nbformat": 4,
  "vscode": {
   "interpreter": {
    "hash": "b671c20432fcd147198c92e7f072af9e705f087eb990bee22b07f08caab9f630"
   }
  }
 },
 "nbformat": 4,
 "nbformat_minor": 2
}
