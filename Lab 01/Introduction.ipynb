{
 "cells": [
  {
   "attachments": {},
   "cell_type": "markdown",
   "metadata": {},
   "source": [
    "## **<center><font style=\"color:rgb(100,109,254)\">System Programming Using Python Programming Language</font> </center>**\n",
    "### **<center><font style=\"color:rgb(100,109,254)\">Lab 01</font> </center>**"
   ]
  },
  {
   "attachments": {},
   "cell_type": "markdown",
   "metadata": {},
   "source": [
    "Python is a high-level programming language that is often used for web development, scientific computing, data analysis, and machine learning. While Python is not typically thought of as a systems programming language, it can be used for system programming tasks.\n",
    "\n",
    "System programming involves writing code that interacts with low-level system components such as the operating system, hardware, and network. Python provides several modules and libraries that make it possible to perform system programming tasks. Some of these include:"
   ]
  },
  {
   "attachments": {},
   "cell_type": "markdown",
   "metadata": {},
   "source": [
    "* **```OS Module```** - This module provides a way to interact with the operating system, such as creating or deleting files and directories, changing permissions, and more.\n",
    "\n",
    "* **```Subprocess Module```** - This module allows you to spawn new processes, connect to their input/output/error pipes, and obtain their return codes.\n",
    "\n",
    "* **```Socket Module```** - This module provides a way to communicate with network sockets, allowing Python programs to interact with the internet, send and receive data through network connections.\n",
    "\n",
    "* **```ctypes Module```** - This module provides a way to call functions in shared libraries and access C data types from Python code.\n",
    "\n",
    "* **```multiprocessing Module```** - This module provides a way to create and manage multiple processes in a Python program."
   ]
  },
  {
   "attachments": {},
   "cell_type": "markdown",
   "metadata": {},
   "source": [
    "Using these modules and libraries, you can perform many system programming tasks using Python. For example, you can write a Python script to interact with the operating system, perform system administration tasks such as managing user accounts and groups, and manipulate network sockets to create a web server or a chat application.\n",
    "\n",
    "Python can also be used to write system-level programs, such as device drivers, operating systems, and low-level libraries. While Python may not be the ideal choice for all system programming tasks, it can be a useful tool in many situations."
   ]
  },
  {
   "attachments": {},
   "cell_type": "markdown",
   "metadata": {},
   "source": [
    "#### **<font style=\"color:rgb(134,19,348)\">Handling the Current Working Directory</font>**"
   ]
  },
  {
   "attachments": {},
   "cell_type": "markdown",
   "metadata": {},
   "source": [
    "1. Get the Current working directory"
   ]
  },
  {
   "cell_type": "code",
   "execution_count": 1,
   "metadata": {},
   "outputs": [],
   "source": [
    "import os"
   ]
  },
  {
   "cell_type": "code",
   "execution_count": 3,
   "metadata": {},
   "outputs": [
    {
     "data": {
      "text/plain": [
       "'c:\\\\Users\\\\hp\\\\Google Drive\\\\Fiverr Work\\\\2022\\\\34. System Programming Using Python\\\\Lab 01'"
      ]
     },
     "execution_count": 3,
     "metadata": {},
     "output_type": "execute_result"
    }
   ],
   "source": [
    "cwd = os.getcwd()\n",
    "cwd"
   ]
  },
  {
   "attachments": {},
   "cell_type": "markdown",
   "metadata": {},
   "source": [
    "2. Changing the Current working directory"
   ]
  },
  {
   "cell_type": "code",
   "execution_count": 6,
   "metadata": {},
   "outputs": [
    {
     "name": "stdout",
     "output_type": "stream",
     "text": [
      "c:\\Users\\hp\\Google Drive\\Fiverr Work\\2022\n",
      "c:\\Users\\hp\\Google Drive\\Fiverr Work\n"
     ]
    }
   ],
   "source": [
    "# function which prints the current woring directory path\n",
    "def cWDPath():\n",
    "    print(os.getcwd())\n",
    "\n",
    "# prints current dir. path\n",
    "cWDPath()\n",
    "\n",
    "# change the path\n",
    "os.chdir(\"../\")\n",
    "\n",
    "# again prints the path \n",
    "cWDPath()\n"
   ]
  },
  {
   "attachments": {},
   "cell_type": "markdown",
   "metadata": {},
   "source": [
    "3. Creating a Directory"
   ]
  },
  {
   "cell_type": "code",
   "execution_count": 10,
   "metadata": {},
   "outputs": [
    {
     "name": "stdout",
     "output_type": "stream",
     "text": [
      "Directory System Programming is created!\n"
     ]
    }
   ],
   "source": [
    "# name of directory You want to make\n",
    "dirName = \"System Programming\"\n",
    "\n",
    "# parent dir. path\n",
    "parentDir = \"C:/Users/hp/Google Drive/Fiverr Work/2022/34. System Programming Using Python/Lab 01/\"\n",
    "\n",
    "# join parent with new\n",
    "path  = os.path.join(parentDir, dirName)\n",
    "\n",
    "os.mkdir(path)\n",
    "print(f\"Directory {dirName} is created!\")"
   ]
  },
  {
   "attachments": {},
   "cell_type": "markdown",
   "metadata": {},
   "source": [
    "4. Listing out Files and Directories"
   ]
  },
  {
   "cell_type": "code",
   "execution_count": 12,
   "metadata": {},
   "outputs": [],
   "source": [
    "# provide the path of dir.\n",
    "path  = \"C:\\\\Users\\\\hp\\\\Google Drive\\\\Fiverr Work\\\\2022\""
   ]
  },
  {
   "cell_type": "code",
   "execution_count": 15,
   "metadata": {},
   "outputs": [
    {
     "data": {
      "text/plain": [
       "['1. PoseEstimation',\n",
       " '10. new',\n",
       " '11. Plant Disease Detection android app',\n",
       " '12. File_Traversing_Using_Python',\n",
       " '13. PDF_to_WORD_with_GUI',\n",
       " '14. Attendance_Using_Face_Recognition',\n",
       " '15. Teaching OpenCV to Client',\n",
       " '16. Finding Center and Area of color Object',\n",
       " '17. Tkinter GUI for OpenCV Basics',\n",
       " '18. Car parking',\n",
       " '19. Finding the width and height of an object using aruco library',\n",
       " '2. Sign Lanuage',\n",
       " '20. Text Detection and recognition using OCR OpenCV',\n",
       " '21. Track an object Using OpenCV',\n",
       " '22. Document Classification Using OCR',\n",
       " '23.Research Paper Summarizer Using OpenAI',\n",
       " '24. Interactive Display Using Python',\n",
       " '25. Virtual Witeboard',\n",
       " '26. Interactive Presentation Uisng Hand Gestures',\n",
       " '27. QR Code Scanner Using OpenCV',\n",
       " '28. AI Sketch Generator',\n",
       " '29. Laptop Battery Percentage Monitoring Application',\n",
       " '3. Sign Language using Tensor FLow Classification',\n",
       " '30. Computer Vision with Keras',\n",
       " '31. Yolo Implementation',\n",
       " '32. Drone Programming Using Python OpenCV',\n",
       " '33. Computer Vision Course',\n",
       " '34. System Programming Using Python',\n",
       " '4. AI_Gym_Trainer',\n",
       " '5. Presentation_Control_Using_Hand_Gesture',\n",
       " '6. Diabetes_Prediction_Using_ML',\n",
       " '6. Diabetes_Prediction_Using_ML.zip',\n",
       " '7. 3D_Model_Control_By_Hand_Gestures',\n",
       " '8. Mouse_Control_BY_Hand',\n",
       " '9. Integeration of pose estimation with Django',\n",
       " 'pictures for opencv gig']"
      ]
     },
     "execution_count": 15,
     "metadata": {},
     "output_type": "execute_result"
    }
   ],
   "source": [
    "dirList = os.listdir(path)\n",
    "dirList"
   ]
  },
  {
   "cell_type": "code",
   "execution_count": 16,
   "metadata": {},
   "outputs": [
    {
     "name": "stdout",
     "output_type": "stream",
     "text": [
      "36\n"
     ]
    }
   ],
   "source": [
    "print(len(dirList))"
   ]
  },
  {
   "attachments": {},
   "cell_type": "markdown",
   "metadata": {},
   "source": [
    "5. Deleting Directory or Files"
   ]
  },
  {
   "cell_type": "code",
   "execution_count": null,
   "metadata": {},
   "outputs": [],
   "source": []
  }
 ],
 "metadata": {
  "kernelspec": {
   "display_name": "Python 3",
   "language": "python",
   "name": "python3"
  },
  "language_info": {
   "codemirror_mode": {
    "name": "ipython",
    "version": 3
   },
   "file_extension": ".py",
   "mimetype": "text/x-python",
   "name": "python",
   "nbconvert_exporter": "python",
   "pygments_lexer": "ipython3",
   "version": "3.9.1"
  },
  "orig_nbformat": 4,
  "vscode": {
   "interpreter": {
    "hash": "b671c20432fcd147198c92e7f072af9e705f087eb990bee22b07f08caab9f630"
   }
  }
 },
 "nbformat": 4,
 "nbformat_minor": 2
}
