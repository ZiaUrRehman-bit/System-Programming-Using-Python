{
 "cells": [
  {
   "attachments": {},
   "cell_type": "markdown",
   "metadata": {},
   "source": [
    "## **<center><font style=\"color:rgb(100,109,254)\">System Programming Using Python Programming Language</font> </center>**\n",
    "### **<center><font style=\"color:rgb(100,109,254)\">Lab 01</font> </center>**"
   ]
  },
  {
   "attachments": {},
   "cell_type": "markdown",
   "metadata": {},
   "source": [
    "Python is a high-level programming language that is often used for web development, scientific computing, data analysis, and machine learning. While Python is not typically thought of as a systems programming language, it can be used for system programming tasks.\n",
    "\n",
    "System programming involves writing code that interacts with low-level system components such as the operating system, hardware, and network. Python provides several modules and libraries that make it possible to perform system programming tasks. Some of these include:"
   ]
  },
  {
   "attachments": {},
   "cell_type": "markdown",
   "metadata": {},
   "source": [
    "* **```OS Module```** - This module provides a way to interact with the operating system, such as creating or deleting files and directories, changing permissions, and more.\n",
    "\n",
    "* **```Subprocess Module```** - This module allows you to spawn new processes, connect to their input/output/error pipes, and obtain their return codes.\n",
    "\n",
    "* **```Socket Module```** - This module provides a way to communicate with network sockets, allowing Python programs to interact with the internet, send and receive data through network connections.\n",
    "\n",
    "* **```ctypes Module```** - This module provides a way to call functions in shared libraries and access C data types from Python code.\n",
    "\n",
    "* **```multiprocessing Module```** - This module provides a way to create and manage multiple processes in a Python program."
   ]
  },
  {
   "attachments": {},
   "cell_type": "markdown",
   "metadata": {},
   "source": [
    "Using these modules and libraries, you can perform many system programming tasks using Python. For example, you can write a Python script to interact with the operating system, perform system administration tasks such as managing user accounts and groups, and manipulate network sockets to create a web server or a chat application.\n",
    "\n",
    "Python can also be used to write system-level programs, such as device drivers, operating systems, and low-level libraries. While Python may not be the ideal choice for all system programming tasks, it can be a useful tool in many situations."
   ]
  },
  {
   "attachments": {},
   "cell_type": "markdown",
   "metadata": {},
   "source": [
    "#### **<font style=\"color:rgb(134,19,348)\">Handling the Current Working Directory</font>**"
   ]
  },
  {
   "attachments": {},
   "cell_type": "markdown",
   "metadata": {},
   "source": [
    "1. Get the Current working directory"
   ]
  },
  {
   "cell_type": "code",
   "execution_count": 3,
   "metadata": {},
   "outputs": [],
   "source": [
    "import os"
   ]
  },
  {
   "cell_type": "code",
   "execution_count": 4,
   "metadata": {},
   "outputs": [
    {
     "data": {
      "text/plain": [
       "'c:\\\\Users\\\\hp\\\\Google Drive\\\\Fiverr Work\\\\2022\\\\34. System Programming Using Python'"
      ]
     },
     "execution_count": 4,
     "metadata": {},
     "output_type": "execute_result"
    }
   ],
   "source": [
    "cwd = os.getcwd()\n",
    "cwd"
   ]
  },
  {
   "attachments": {},
   "cell_type": "markdown",
   "metadata": {},
   "source": [
    "2. Changing the Current working directory"
   ]
  },
  {
   "cell_type": "code",
   "execution_count": 5,
   "metadata": {},
   "outputs": [],
   "source": [
    "def cWDPath():\n",
    "    print(os.getcwd())\n"
   ]
  },
  {
   "cell_type": "code",
   "execution_count": 6,
   "metadata": {},
   "outputs": [
    {
     "name": "stdout",
     "output_type": "stream",
     "text": [
      "c:\\Users\\hp\\Google Drive\\Fiverr Work\\2022\\34. System Programming Using Python\n"
     ]
    }
   ],
   "source": [
    "cWDPath()"
   ]
  },
  {
   "cell_type": "code",
   "execution_count": 7,
   "metadata": {},
   "outputs": [],
   "source": [
    "os.chdir(\"../\")"
   ]
  },
  {
   "cell_type": "code",
   "execution_count": 8,
   "metadata": {},
   "outputs": [
    {
     "name": "stdout",
     "output_type": "stream",
     "text": [
      "c:\\Users\\hp\\Google Drive\\Fiverr Work\\2022\n"
     ]
    }
   ],
   "source": [
    "cWDPath()"
   ]
  },
  {
   "attachments": {},
   "cell_type": "markdown",
   "metadata": {},
   "source": [
    "3. Creating a Directory"
   ]
  },
  {
   "cell_type": "code",
   "execution_count": 10,
   "metadata": {},
   "outputs": [
    {
     "ename": "TypeError",
     "evalue": "expected str, bytes or os.PathLike object, not builtin_function_or_method",
     "output_type": "error",
     "traceback": [
      "\u001b[1;31m---------------------------------------------------------------------------\u001b[0m",
      "\u001b[1;31mTypeError\u001b[0m                                 Traceback (most recent call last)",
      "Cell \u001b[1;32mIn [10], line 5\u001b[0m\n\u001b[0;32m      1\u001b[0m dirName \u001b[39m=\u001b[39m \u001b[39m\"\u001b[39m\u001b[39m\\\\\u001b[39;00m\u001b[39mSystem Programming\u001b[39m\u001b[39m\"\u001b[39m\n\u001b[0;32m      3\u001b[0m parentDirPath \u001b[39m=\u001b[39m os\u001b[39m.\u001b[39mgetcwd\n\u001b[1;32m----> 5\u001b[0m path \u001b[39m=\u001b[39m os\u001b[39m.\u001b[39;49mpath\u001b[39m.\u001b[39;49mjoin(parentDirPath,dirName)\n\u001b[0;32m      7\u001b[0m os\u001b[39m.\u001b[39mmkdir(path)\n",
      "File \u001b[1;32mc:\\Users\\hp\\AppData\\Local\\Programs\\Python\\Python39\\lib\\ntpath.py:78\u001b[0m, in \u001b[0;36mjoin\u001b[1;34m(path, *paths)\u001b[0m\n\u001b[0;32m     77\u001b[0m \u001b[39mdef\u001b[39;00m \u001b[39mjoin\u001b[39m(path, \u001b[39m*\u001b[39mpaths):\n\u001b[1;32m---> 78\u001b[0m     path \u001b[39m=\u001b[39m os\u001b[39m.\u001b[39;49mfspath(path)\n\u001b[0;32m     79\u001b[0m     \u001b[39mif\u001b[39;00m \u001b[39misinstance\u001b[39m(path, \u001b[39mbytes\u001b[39m):\n\u001b[0;32m     80\u001b[0m         sep \u001b[39m=\u001b[39m \u001b[39mb\u001b[39m\u001b[39m'\u001b[39m\u001b[39m\\\\\u001b[39;00m\u001b[39m'\u001b[39m\n",
      "\u001b[1;31mTypeError\u001b[0m: expected str, bytes or os.PathLike object, not builtin_function_or_method"
     ]
    }
   ],
   "source": [
    "dirName = \"System Programming\"\n",
    "\n",
    "parentDirPath = \"C:\\\\Users\\\\hp\\\\Google Drive\\\\Fiverr Work\\\\2022\\\\34. System Programming Using Python\\\\Lab 01\"\n",
    "\n",
    "path = os.path.join(parentDirPath,dirName)\n",
    "\n",
    "os.mkdir(path)"
   ]
  },
  {
   "attachments": {},
   "cell_type": "markdown",
   "metadata": {},
   "source": [
    "4. Listing out Files and Directories"
   ]
  },
  {
   "cell_type": "code",
   "execution_count": null,
   "metadata": {},
   "outputs": [],
   "source": []
  },
  {
   "cell_type": "code",
   "execution_count": null,
   "metadata": {},
   "outputs": [],
   "source": []
  },
  {
   "cell_type": "code",
   "execution_count": null,
   "metadata": {},
   "outputs": [],
   "source": []
  },
  {
   "attachments": {},
   "cell_type": "markdown",
   "metadata": {},
   "source": [
    "5. Deleting Directory or Files"
   ]
  },
  {
   "cell_type": "code",
   "execution_count": null,
   "metadata": {},
   "outputs": [],
   "source": []
  },
  {
   "attachments": {},
   "cell_type": "markdown",
   "metadata": {},
   "source": [
    "6. os.name"
   ]
  },
  {
   "attachments": {},
   "cell_type": "markdown",
   "metadata": {},
   "source": [
    "os.name is a variable in Python's built-in os module that returns the name of the operating system that the Python interpreter is running on.\n",
    "\n",
    "The value of os.name can be one of two possible strings: \"nt\" for Windows, or \"posix\" for most Unix-based systems, including Linux and macOS."
   ]
  },
  {
   "cell_type": "code",
   "execution_count": null,
   "metadata": {},
   "outputs": [],
   "source": []
  },
  {
   "attachments": {},
   "cell_type": "markdown",
   "metadata": {},
   "source": [
    "7. os.times()\n",
    "\n",
    "os.times() is a function in Python's built-in os module that returns a tuple of floating-point numbers representing the current process's user and system CPU times. The values in the tuple represent the following:\n",
    "\n",
    "* **```user:```** - The amount of CPU time spent in user-mode code by the current process, in seconds.\n",
    "\n",
    "* **```system:```** - The amount of CPU time spent in system-mode code by the current process, in seconds.\n",
    "\n",
    "* **```children_user:```** - The amount of CPU time spent in user-mode code by child processes of the current process, in seconds.\n",
    "\n",
    "* **```children_system:```** - The amount of CPU time spent in system-mode code by child processes of the current process, in seconds."
   ]
  },
  {
   "cell_type": "code",
   "execution_count": 1,
   "metadata": {},
   "outputs": [],
   "source": [
    "import os"
   ]
  },
  {
   "cell_type": "code",
   "execution_count": 2,
   "metadata": {},
   "outputs": [
    {
     "data": {
      "text/plain": [
       "'c:\\\\Users\\\\hp\\\\Google Drive\\\\Fiverr Work\\\\2022\\\\34. System Programming Using Python'"
      ]
     },
     "execution_count": 2,
     "metadata": {},
     "output_type": "execute_result"
    }
   ],
   "source": [
    "\n",
    "cwd = os.getcwd()\n",
    "cwd"
   ]
  },
  {
   "attachments": {},
   "cell_type": "markdown",
   "metadata": {},
   "source": [
    "The difference between the CPU times is calculated to get the amount of time spent by the process in user and system mode.\n",
    "\n",
    "Note that os.times() may not be available on all platforms, and the values returned by the function may not be very accurate or precise. For more precise timing measurements, you may want to use the time or timeit modules instead.\n",
    "\n",
    "In the example I provided, os.times() is used to measure the CPU time used by the current process before and after performing some CPU-intensive work. The user and system values returned by os.times() represent the amount of CPU time used by the current process in user-mode and system-mode code, respectively.\n",
    "\n",
    "* **```User CPU time:```** - The user value returned by os.times() represents the amount of CPU time spent executing code in user-mode. This includes time spent executing the code in the current process, as well as any user-mode code executed by child processes.\n",
    "\n",
    "* **```System CPU time:```** - The system value returned by os.times() represents the amount of CPU time spent executing code in kernel-mode (i.e., system-mode). This includes time spent executing system calls, interrupts, and other operating system functions, as well as any system-mode code executed by child processes.\n",
    "\n",
    "In the example I provided, the CPU-intensive work is performed by the current process, so the majority of the CPU time will be in user-mode. However, if the process were to make a lot of system calls, or if child processes were created and did a significant amount of work, then the system CPU time would increase as well.\n",
    "\n",
    "In general, user CPU time represents the amount of time spent executing your application code, while system CPU time represents the amount of time spent executing operating system code on behalf of your application. Both can be important to monitor and optimize for different types of applications."
   ]
  },
  {
   "attachments": {},
   "cell_type": "markdown",
   "metadata": {},
   "source": [
    "8. Check if file exist"
   ]
  },
  {
   "cell_type": "code",
   "execution_count": null,
   "metadata": {},
   "outputs": [],
   "source": []
  },
  {
   "attachments": {},
   "cell_type": "markdown",
   "metadata": {},
   "source": [
    "#### **<font style=\"color:rgb(134,19,348)\">File Traversing</font>**\n",
    "\n",
    "9. os.walk()"
   ]
  },
  {
   "attachments": {},
   "cell_type": "markdown",
   "metadata": {},
   "source": [
    "**```os.walk()```** -  is a function in Python's built-in os module that generates the file names in a directory tree by walking the tree either top-down or bottom-up. The function returns a generator that yields a 3-tuple (dirpath, dirnames, filenames) for each directory in the tree, including the starting directory.\n",
    "\n",
    "The parameters of os.walk() are:\n",
    "\n",
    "* **```top:```** - The directory at the top of the directory tree to start the walk from.\n",
    "* **```topdown:```** - A Boolean flag indicating whether to generate the directory tree top-down (i.e., start from the top-level directory and descend into subdirectories) or bottom-up (i.e., start from the leaf directories and work up to the top-level directory). The default is True, which means the directory tree is generated top-down.\n",
    "* **```onerror:```** - An optional function that is called when an error occurs while walking the directory tree.\n",
    "\n",
    "The 3-tuple (dirpath, dirnames, filenames) returned by os.walk() contains the following:\n",
    "\n",
    "* **```dirpath:```** - The path of the directory currently being visited.\n",
    "* **```dirnames:```** - A list of the names of the subdirectories in dirpath.\n",
    "* **```filenames:```** - A list of the names of the files in dirpath."
   ]
  },
  {
   "cell_type": "code",
   "execution_count": null,
   "metadata": {},
   "outputs": [],
   "source": []
  },
  {
   "cell_type": "code",
   "execution_count": null,
   "metadata": {},
   "outputs": [],
   "source": [
    "\n"
   ]
  },
  {
   "cell_type": "code",
   "execution_count": null,
   "metadata": {},
   "outputs": [],
   "source": [
    "\n"
   ]
  },
  {
   "cell_type": "code",
   "execution_count": null,
   "metadata": {},
   "outputs": [],
   "source": []
  },
  {
   "cell_type": "code",
   "execution_count": null,
   "metadata": {},
   "outputs": [],
   "source": []
  }
 ],
 "metadata": {
  "kernelspec": {
   "display_name": "Python 3",
   "language": "python",
   "name": "python3"
  },
  "language_info": {
   "codemirror_mode": {
    "name": "ipython",
    "version": 3
   },
   "file_extension": ".py",
   "mimetype": "text/x-python",
   "name": "python",
   "nbconvert_exporter": "python",
   "pygments_lexer": "ipython3",
   "version": "3.9.1"
  },
  "orig_nbformat": 4,
  "vscode": {
   "interpreter": {
    "hash": "b671c20432fcd147198c92e7f072af9e705f087eb990bee22b07f08caab9f630"
   }
  }
 },
 "nbformat": 4,
 "nbformat_minor": 2
}
